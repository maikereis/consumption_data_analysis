{
 "cells": [
  {
   "cell_type": "code",
   "execution_count": 1,
   "metadata": {},
   "outputs": [],
   "source": [
    "%load_ext autoreload\n",
    "%autoreload 2\n",
    "sys.path.append('../../src')\n",
    "\n",
    "import os\n",
    "import numpy as np\n",
    "import pandas as pd\n",
    "import datetime\n",
    "import matplotlib.pyplot as plt\n",
    "import seaborn as sns\n",
    "\n",
    "from utils.formatter import get_energy, get_usetime\n",
    "from utils.functions import load_datasets_from_csv, lists_to_dict\n",
    "\n",
    "from stats.plot import show_decompose, show_dist_grid, show_qqplot\n",
    "\n",
    "from scipy.stats import normaltest\n",
    "\n",
    "from plot import show_serie, show_series\n",
    "\n",
    "from paths import ROOT_DIR, FLLD_DB_DIR\n",
    "IMG_PATH = ROOT_DIR+'/img/distribution'\n",
    "\n",
    "if not os.path.exists(IMG_PATH):\n",
    "    os.mkdir(IMG_PATH)"
   ]
  },
  {
   "cell_type": "code",
   "execution_count": 2,
   "metadata": {},
   "outputs": [],
   "source": [
    "dts = load_datasets_from_csv(FLLD_DB_DIR).copy()"
   ]
  },
  {
   "cell_type": "code",
   "execution_count": 3,
   "metadata": {},
   "outputs": [
    {
     "data": {
      "image/png": "[encoded data removed]",
      "text/plain": [
       "<Figure size 468x288 with 6 Axes>"
      ]
     },
     "metadata": {
      "needs_background": "light"
     },
     "output_type": "display_data"
    }
   ],
   "source": [
    "dts['air']\n",
    "\n",
    "fig, axs = plt.subplots(3,2, figsize=(6.5,4))\n",
    "\n",
    "sns.set_style({'font.family':'sans', 'font.serif':'Helvetica'})\n",
    "sns.set_context(rc={\"font.size\":11,\"axes.titlesize\":12,\"axes.labelsize\":12})  \n",
    "    \n",
    "g = sns.boxplot(data=dts['air']['Pwr'], orient='h',ax = axs[0,0])\n",
    "g = sns.boxplot(data=dts['pump']['Pwr'], orient='h',ax = axs[0,1])\n",
    "g = sns.boxplot(data=dts['fan']['Pwr'], orient='h',ax = axs[1,0])\n",
    "g = sns.boxplot(data=dts['house']['Pwr'], orient='h',ax = axs[1,1])\n",
    "g = sns.boxplot(data=dts['fridge']['Pwr'], orient='h',ax = axs[2,0])\n",
    "g = sns.boxplot(data=dts['computer']['Pwr'], orient='h',ax = axs[2,1])\n",
    "    \n",
    "\n",
    "axs[2][0].set_xlabel(\"Potência (W)\")\n",
    "axs[2][1].set_xlabel(\"Potência (W)\")\n",
    "    \n",
    "axs[0][0].set_title('Ar-condicionado')\n",
    "axs[0][1].set_title('Bomba')\n",
    "axs[1][0].set_title('Ventilador')\n",
    "axs[1][1].set_title('Casa')\n",
    "axs[2][0].set_title('Geladeira')\n",
    "axs[2][1].set_title('Computador')\n",
    "plt.tight_layout()\n",
    "\n",
    "plt.savefig(IMG_PATH+\"/boxplot.svg\", dpi=300, pad_inches=0.05, bbox_inches='tight')\n",
    "plt.savefig(IMG_PATH+\"/boxplot.jpeg\", dpi=300, pad_inches=0.05, bbox_inches='tight')"
   ]
  }
 ],
 "metadata": {
  "interpreter": {
   "hash": "05467fc06a9a63d4d0cce7d1c4fb27448305ede2b9fc912dfc395c136afba003"
  },
  "kernelspec": {
   "display_name": "Python 3.8.7 64-bit",
   "language": "python",
   "name": "python3"
  },
  "language_info": {
   "codemirror_mode": {
    "name": "ipython",
    "version": 3
   },
   "file_extension": ".py",
   "mimetype": "text/x-python",
   "name": "python",
   "nbconvert_exporter": "python",
   "pygments_lexer": "ipython3",
   "version": "3.8.10"
  },
  "metadata": {
   "interpreter": {
    "hash": "767d51c1340bd893661ea55ea3124f6de3c7a262a8b4abca0554b478b1e2ff90"
   }
  },
  "orig_nbformat": 2
 },
 "nbformat": 4,
 "nbformat_minor": 2
}
