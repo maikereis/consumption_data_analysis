{
 "cells": [
  {
   "cell_type": "code",
   "execution_count": 8,
   "source": [
    "%load_ext autoreload\r\n",
    "%autoreload 2\r\n",
    "sys.path.append('../../src')\r\n",
    "\r\n",
    "from utils.functions import load_datasets_from_csv\r\n",
    "from paths import FLLD_DB_DIR\r\n"
   ],
   "outputs": [
    {
     "output_type": "stream",
     "name": "stdout",
     "text": [
      "The autoreload extension is already loaded. To reload it, use:\n",
      "  %reload_ext autoreload\n"
     ]
    }
   ],
   "metadata": {}
  },
  {
   "cell_type": "code",
   "execution_count": 9,
   "source": [
    "dts = load_datasets_from_csv(FLLD_DB_DIR).copy()"
   ],
   "outputs": [],
   "metadata": {}
  },
  {
   "cell_type": "code",
   "execution_count": 14,
   "source": [
    "dts['air']['Pwr'].resample('5Min').mean().plot()"
   ],
   "outputs": [],
   "metadata": {}
  },
  {
   "cell_type": "code",
   "execution_count": null,
   "source": [],
   "outputs": [],
   "metadata": {}
  }
 ],
 "metadata": {
  "orig_nbformat": 4,
  "language_info": {
   "name": "python",
   "version": "3.8.0",
   "mimetype": "text/x-python",
   "codemirror_mode": {
    "name": "ipython",
    "version": 3
   },
   "pygments_lexer": "ipython3",
   "nbconvert_exporter": "python",
   "file_extension": ".py"
  },
  "kernelspec": {
   "name": "python3",
   "display_name": "Python 3.8.0 64-bit ('tcc': virtualenv)"
  },
  "interpreter": {
   "hash": "6cb5371e97afa0a9afd340b54cc3ab0c27e4fa26de054c8fa72fe029dc1b0ef1"
  }
 },
 "nbformat": 4,
 "nbformat_minor": 2
}