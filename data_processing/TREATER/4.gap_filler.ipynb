{
 "metadata": {
  "language_info": {
   "codemirror_mode": {
    "name": "ipython",
    "version": 3
   },
   "file_extension": ".py",
   "mimetype": "text/x-python",
   "name": "python",
   "nbconvert_exporter": "python",
   "pygments_lexer": "ipython3",
   "version": "3.8.5"
  },
  "orig_nbformat": 2,
  "kernelspec": {
   "name": "python3",
   "display_name": "Python 3.8.5 64-bit ('tcc': virtualenvwrapper)"
  },
  "metadata": {
   "interpreter": {
    "hash": "767d51c1340bd893661ea55ea3124f6de3c7a262a8b4abca0554b478b1e2ff90"
   }
  },
  "interpreter": {
   "hash": "8544f13ab0ab80dea1d9d6fa47c8639d678dfa7257a3d9f53696aa76032f1ec7"
  }
 },
 "nbformat": 4,
 "nbformat_minor": 2,
 "cells": [
  {
   "cell_type": "code",
   "execution_count": 1,
   "metadata": {},
   "outputs": [],
   "source": [
    "%load_ext autoreload\n",
    "%autoreload 2\n",
    "\n",
    "import sys\n",
    "import numpy as np\n",
    "import pandas as pd\n",
    "import datetime as dt\n",
    "import seaborn as sns\n",
    "import matplotlib.pyplot as plt\n",
    "\n",
    "sys.path.append('../../src')\n",
    "from paths import FLTRD_DB_DIR, FLLD_DB_DIR\n",
    "from utils.functions import clean_folder, load_datasets_from_csv\n",
    "from plot import show_serie, show_gaps\n",
    "\n",
    "from gaps.plots import show_gaps\n",
    "from gaps.functions import find_series_gaps, flatten_series_gaps, fill_gaps"
   ]
  },
  {
   "cell_type": "code",
   "execution_count": 2,
   "metadata": {},
   "outputs": [],
   "source": [
    "clean_folder(FLLD_DB_DIR, \"*.csv\")"
   ]
  },
  {
   "cell_type": "code",
   "execution_count": 3,
   "metadata": {},
   "outputs": [],
   "source": [
    "dts = load_datasets_from_csv(FLTRD_DB_DIR).copy()"
   ]
  },
  {
   "cell_type": "code",
   "execution_count": 4,
   "metadata": {},
   "outputs": [
    {
     "output_type": "execute_result",
     "data": {
      "text/plain": [
       "dict_keys(['external', 'fan', 'air', 'pump', 'fridge', 'computer', 'house'])"
      ]
     },
     "metadata": {},
     "execution_count": 4
    }
   ],
   "source": [
    "dts.keys()"
   ]
  },
  {
   "source": [
    "## 1. FILLING LARGE GAPS"
   ],
   "cell_type": "markdown",
   "metadata": {}
  },
  {
   "cell_type": "code",
   "execution_count": 5,
   "metadata": {},
   "outputs": [
    {
     "output_type": "stream",
     "name": "stdout",
     "text": [
      "external\n",
      "fan\n",
      "air\n",
      "pump\n",
      "fridge\n",
      "computer\n",
      "house\n"
     ]
    }
   ],
   "source": [
    "gaps_dict = {}\n",
    "gaps_dict_flat = {}\n",
    "for key in dts:\n",
    "    print(key)\n",
    "    gaps_dict[key] = find_series_gaps(dts[key])\n",
    "    gaps_dict_flat[key] = flatten_series_gaps(gaps_dict[key])"
   ]
  },
  {
   "cell_type": "code",
   "execution_count": 6,
   "metadata": {},
   "outputs": [],
   "source": [
    "for key in dts:\n",
    "    fill_gaps(dts[key], gaps_dict[key], 30)"
   ]
  },
  {
   "cell_type": "code",
   "execution_count": 7,
   "metadata": {},
   "outputs": [
    {
     "output_type": "stream",
     "name": "stdout",
     "text": [
      "external\n",
      "fan\n",
      "air\n",
      "pump\n",
      "fridge\n",
      "computer\n",
      "house\n"
     ]
    }
   ],
   "source": [
    "for key in dts:\n",
    "    print(key)\n",
    "    gaps_dict[key] = find_series_gaps(dts[key])\n",
    "    gaps_dict_flat[key] = flatten_series_gaps(gaps_dict[key])"
   ]
  },
  {
   "cell_type": "code",
   "execution_count": 8,
   "metadata": {},
   "outputs": [],
   "source": [
    "for key in dts:\n",
    "    dts[key].interpolate(method='from_derivatives', inplace=True)"
   ]
  },
  {
   "cell_type": "code",
   "execution_count": 9,
   "metadata": {},
   "outputs": [
    {
     "output_type": "stream",
     "name": "stdout",
     "text": [
      "external\n",
      "fan\n",
      "air\n",
      "pump\n",
      "fridge\n",
      "computer\n",
      "house\n"
     ]
    }
   ],
   "source": [
    "new_gaps_dict = {}\n",
    "new_gaps_dict_flat = {}\n",
    "for key in dts:\n",
    "    print(key)\n",
    "    new_gaps_dict[key] = find_series_gaps(dts[key])\n",
    "    new_gaps_dict_flat[key] = flatten_series_gaps(new_gaps_dict[key])"
   ]
  },
  {
   "cell_type": "code",
   "execution_count": 10,
   "metadata": {},
   "outputs": [],
   "source": [
    "for key in dts:\n",
    "    dts[key].dropna(inplace=True)"
   ]
  },
  {
   "cell_type": "code",
   "execution_count": 11,
   "metadata": {},
   "outputs": [
    {
     "output_type": "execute_result",
     "data": {
      "text/plain": [
       "Pwr    True\n",
       "H      True\n",
       "T      True\n",
       "DI     True\n",
       "dtype: bool"
      ]
     },
     "metadata": {},
     "execution_count": 11
    }
   ],
   "source": [
    "(dts['computer'].isna() == False).all()"
   ]
  },
  {
   "cell_type": "code",
   "execution_count": 12,
   "metadata": {},
   "outputs": [],
   "source": [
    "start_date = '2021-02-17 00:00:00'\n",
    "stop_date = '2021-03-29 23:59:59'"
   ]
  },
  {
   "cell_type": "code",
   "execution_count": 13,
   "metadata": {},
   "outputs": [],
   "source": [
    "for key in dts:\n",
    "    dts[key].name = key\n",
    "    sel = dts[key].loc[start_date:stop_date]\n",
    "    sel.to_csv(FLLD_DB_DIR+\"/{}.csv\".format(key), float_format='%.4f')"
   ]
  }
 ]
}