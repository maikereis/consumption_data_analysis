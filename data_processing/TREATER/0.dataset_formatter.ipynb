{
 "cells": [
  {
   "cell_type": "code",
   "execution_count": 16,
   "metadata": {},
   "outputs": [
    {
     "name": "stdout",
     "output_type": "stream",
     "text": [
      "The autoreload extension is already loaded. To reload it, use:\n",
      "  %reload_ext autoreload\n"
     ]
    }
   ],
   "source": [
    "%load_ext autoreload\n",
    "%autoreload 2\n",
    "\n",
    "import sys\n",
    "import pandas as pd\n",
    "import matplotlib.pyplot as plt\n",
    "\n",
    "\n",
    "sys.path.append('../../src')\n",
    "from utils.formatter import rename_columns, pivot_database, apply_sct_gain, dt_remover\n",
    "from utils.functions import clean_folder\n",
    "\n",
    "from di.functions import append_di_column\n",
    "\n",
    "from paths import DB_DIR, PVTDB, RAW_DB_DIR, PRE_FMTD_DB_DIR, FMTD_DB_DIR"
   ]
  },
  {
   "cell_type": "markdown",
   "metadata": {},
   "source": [
    "#### Clean destine diretory"
   ]
  },
  {
   "cell_type": "code",
   "execution_count": 17,
   "metadata": {},
   "outputs": [],
   "source": [
    "#clean_folder(PRE_FMTD_DB_DIR_FMTD_DB_DIR, \"*.csv\")\n",
    "#clean_folder(FMTD_DB_DIR, \"*.csv\")"
   ]
  },
  {
   "cell_type": "markdown",
   "metadata": {},
   "source": [
    "### Download database"
   ]
  },
  {
   "cell_type": "code",
   "execution_count": 18,
   "metadata": {},
   "outputs": [],
   "source": [
    "#download_raw_db()"
   ]
  },
  {
   "cell_type": "code",
   "execution_count": 19,
   "metadata": {},
   "outputs": [],
   "source": [
    "df = pd.read_csv(RAW_DB_DIR+\"/mqtt_database.csv\")"
   ]
  },
  {
   "cell_type": "code",
   "execution_count": 20,
   "metadata": {},
   "outputs": [
    {
     "data": {
      "text/html": [
       "<div>\n",
       "<style scoped>\n",
       "    .dataframe tbody tr th:only-of-type {\n",
       "        vertical-align: middle;\n",
       "    }\n",
       "\n",
       "    .dataframe tbody tr th {\n",
       "        vertical-align: top;\n",
       "    }\n",
       "\n",
       "    .dataframe thead th {\n",
       "        text-align: right;\n",
       "    }\n",
       "</style>\n",
       "<table border=\"1\" class=\"dataframe\">\n",
       "  <thead>\n",
       "    <tr style=\"text-align: right;\">\n",
       "      <th></th>\n",
       "      <th>id</th>\n",
       "      <th>client_id</th>\n",
       "      <th>payload</th>\n",
       "      <th>topic_path</th>\n",
       "      <th>date</th>\n",
       "    </tr>\n",
       "  </thead>\n",
       "  <tbody>\n",
       "    <tr>\n",
       "      <th>0</th>\n",
       "      <td>1</td>\n",
       "      <td>DL_EX</td>\n",
       "      <td>29.2474</td>\n",
       "      <td>/home/SHTC3/T</td>\n",
       "      <td>2021-02-16 13:47:13</td>\n",
       "    </tr>\n",
       "    <tr>\n",
       "      <th>1</th>\n",
       "      <td>2</td>\n",
       "      <td>DL_EX</td>\n",
       "      <td>92.3080</td>\n",
       "      <td>/home/SHTC3/H</td>\n",
       "      <td>2021-02-16 13:47:13</td>\n",
       "    </tr>\n",
       "    <tr>\n",
       "      <th>2</th>\n",
       "      <td>3</td>\n",
       "      <td>DL_EX</td>\n",
       "      <td>30.1000</td>\n",
       "      <td>/home/DHT11/T</td>\n",
       "      <td>2021-02-16 13:47:13</td>\n",
       "    </tr>\n",
       "    <tr>\n",
       "      <th>3</th>\n",
       "      <td>4</td>\n",
       "      <td>DL_EX</td>\n",
       "      <td>61.0000</td>\n",
       "      <td>/home/DHT11/H</td>\n",
       "      <td>2021-02-16 13:47:13</td>\n",
       "    </tr>\n",
       "    <tr>\n",
       "      <th>4</th>\n",
       "      <td>5</td>\n",
       "      <td>DL_EX</td>\n",
       "      <td>163.4000</td>\n",
       "      <td>/home/LDR0/LL</td>\n",
       "      <td>2021-02-16 13:47:13</td>\n",
       "    </tr>\n",
       "  </tbody>\n",
       "</table>\n",
       "</div>"
      ],
      "text/plain": [
       "   id client_id   payload     topic_path                 date\n",
       "0   1     DL_EX   29.2474  /home/SHTC3/T  2021-02-16 13:47:13\n",
       "1   2     DL_EX   92.3080  /home/SHTC3/H  2021-02-16 13:47:13\n",
       "2   3     DL_EX   30.1000  /home/DHT11/T  2021-02-16 13:47:13\n",
       "3   4     DL_EX   61.0000  /home/DHT11/H  2021-02-16 13:47:13\n",
       "4   5     DL_EX  163.4000  /home/LDR0/LL  2021-02-16 13:47:13"
      ]
     },
     "execution_count": 20,
     "metadata": {},
     "output_type": "execute_result"
    }
   ],
   "source": [
    "df.head(5)"
   ]
  },
  {
   "cell_type": "code",
   "execution_count": 21,
   "metadata": {},
   "outputs": [],
   "source": [
    "# Load data\n",
    "db = pivot_database(RAW_DB_DIR, 'mqtt_database.csv')"
   ]
  },
  {
   "cell_type": "code",
   "execution_count": 22,
   "metadata": {},
   "outputs": [
    {
     "data": {
      "text/html": [
       "<div>\n",
       "<style scoped>\n",
       "    .dataframe tbody tr th:only-of-type {\n",
       "        vertical-align: middle;\n",
       "    }\n",
       "\n",
       "    .dataframe tbody tr th {\n",
       "        vertical-align: top;\n",
       "    }\n",
       "\n",
       "    .dataframe thead tr th {\n",
       "        text-align: left;\n",
       "    }\n",
       "\n",
       "    .dataframe thead tr:last-of-type th {\n",
       "        text-align: right;\n",
       "    }\n",
       "</style>\n",
       "<table border=\"1\" class=\"dataframe\">\n",
       "  <thead>\n",
       "    <tr>\n",
       "      <th></th>\n",
       "      <th colspan=\"6\" halign=\"left\">DL_AC</th>\n",
       "      <th colspan=\"4\" halign=\"left\">DL_CY</th>\n",
       "      <th>...</th>\n",
       "      <th colspan=\"10\" halign=\"left\">DL_MR</th>\n",
       "    </tr>\n",
       "    <tr>\n",
       "      <th></th>\n",
       "      <th>R47CH0/Irms</th>\n",
       "      <th>R47CH0/PF</th>\n",
       "      <th>R47CH0/Pwr</th>\n",
       "      <th>R47CH0/Vrms</th>\n",
       "      <th>SHTC3/H</th>\n",
       "      <th>SHTC3/T</th>\n",
       "      <th>DHT11/H</th>\n",
       "      <th>DHT11/T</th>\n",
       "      <th>R22CH0/Irms</th>\n",
       "      <th>R22CH0/PF</th>\n",
       "      <th>...</th>\n",
       "      <th>R82CH0/Irms</th>\n",
       "      <th>R82CH0/PF</th>\n",
       "      <th>R82CH0/Pwr</th>\n",
       "      <th>R82CH0/Vrms</th>\n",
       "      <th>R82CH1/Irms</th>\n",
       "      <th>R82CH1/PF</th>\n",
       "      <th>R82CH1/Pwr</th>\n",
       "      <th>R82CH1/Vrms</th>\n",
       "      <th>SHTC3/H</th>\n",
       "      <th>SHTC3/T</th>\n",
       "    </tr>\n",
       "    <tr>\n",
       "      <th>date</th>\n",
       "      <th></th>\n",
       "      <th></th>\n",
       "      <th></th>\n",
       "      <th></th>\n",
       "      <th></th>\n",
       "      <th></th>\n",
       "      <th></th>\n",
       "      <th></th>\n",
       "      <th></th>\n",
       "      <th></th>\n",
       "      <th></th>\n",
       "      <th></th>\n",
       "      <th></th>\n",
       "      <th></th>\n",
       "      <th></th>\n",
       "      <th></th>\n",
       "      <th></th>\n",
       "      <th></th>\n",
       "      <th></th>\n",
       "      <th></th>\n",
       "      <th></th>\n",
       "    </tr>\n",
       "  </thead>\n",
       "  <tbody>\n",
       "    <tr>\n",
       "      <th>2021-02-16 12:44:00</th>\n",
       "      <td>NaN</td>\n",
       "      <td>NaN</td>\n",
       "      <td>NaN</td>\n",
       "      <td>NaN</td>\n",
       "      <td>NaN</td>\n",
       "      <td>NaN</td>\n",
       "      <td>95.0</td>\n",
       "      <td>26.4</td>\n",
       "      <td>24.2331</td>\n",
       "      <td>0.8205</td>\n",
       "      <td>...</td>\n",
       "      <td>NaN</td>\n",
       "      <td>NaN</td>\n",
       "      <td>NaN</td>\n",
       "      <td>NaN</td>\n",
       "      <td>NaN</td>\n",
       "      <td>NaN</td>\n",
       "      <td>NaN</td>\n",
       "      <td>NaN</td>\n",
       "      <td>NaN</td>\n",
       "      <td>NaN</td>\n",
       "    </tr>\n",
       "    <tr>\n",
       "      <th>2021-02-16 12:46:00</th>\n",
       "      <td>NaN</td>\n",
       "      <td>NaN</td>\n",
       "      <td>NaN</td>\n",
       "      <td>NaN</td>\n",
       "      <td>NaN</td>\n",
       "      <td>NaN</td>\n",
       "      <td>95.0</td>\n",
       "      <td>26.4</td>\n",
       "      <td>24.3757</td>\n",
       "      <td>0.8214</td>\n",
       "      <td>...</td>\n",
       "      <td>NaN</td>\n",
       "      <td>NaN</td>\n",
       "      <td>NaN</td>\n",
       "      <td>NaN</td>\n",
       "      <td>NaN</td>\n",
       "      <td>NaN</td>\n",
       "      <td>NaN</td>\n",
       "      <td>NaN</td>\n",
       "      <td>NaN</td>\n",
       "      <td>NaN</td>\n",
       "    </tr>\n",
       "  </tbody>\n",
       "</table>\n",
       "<p>2 rows × 37 columns</p>\n",
       "</div>"
      ],
      "text/plain": [
       "                          DL_AC                                           \\\n",
       "                    R47CH0/Irms R47CH0/PF R47CH0/Pwr R47CH0/Vrms SHTC3/H   \n",
       "date                                                                       \n",
       "2021-02-16 12:44:00         NaN       NaN        NaN         NaN     NaN   \n",
       "2021-02-16 12:46:00         NaN       NaN        NaN         NaN     NaN   \n",
       "\n",
       "                              DL_CY                                ...  \\\n",
       "                    SHTC3/T DHT11/H DHT11/T R22CH0/Irms R22CH0/PF  ...   \n",
       "date                                                               ...   \n",
       "2021-02-16 12:44:00     NaN    95.0    26.4     24.2331    0.8205  ...   \n",
       "2021-02-16 12:46:00     NaN    95.0    26.4     24.3757    0.8214  ...   \n",
       "\n",
       "                          DL_MR                                               \\\n",
       "                    R82CH0/Irms R82CH0/PF R82CH0/Pwr R82CH0/Vrms R82CH1/Irms   \n",
       "date                                                                           \n",
       "2021-02-16 12:44:00         NaN       NaN        NaN         NaN         NaN   \n",
       "2021-02-16 12:46:00         NaN       NaN        NaN         NaN         NaN   \n",
       "\n",
       "                                                                      \n",
       "                    R82CH1/PF R82CH1/Pwr R82CH1/Vrms SHTC3/H SHTC3/T  \n",
       "date                                                                  \n",
       "2021-02-16 12:44:00       NaN        NaN         NaN     NaN     NaN  \n",
       "2021-02-16 12:46:00       NaN        NaN         NaN     NaN     NaN  \n",
       "\n",
       "[2 rows x 37 columns]"
      ]
     },
     "execution_count": 22,
     "metadata": {},
     "output_type": "execute_result"
    }
   ],
   "source": [
    "db.head(2)"
   ]
  },
  {
   "cell_type": "code",
   "execution_count": 23,
   "metadata": {},
   "outputs": [],
   "source": [
    "# Remove time error inserted by ESP32 timer\n",
    "db = dt_remover(db)"
   ]
  },
  {
   "cell_type": "code",
   "execution_count": 24,
   "metadata": {},
   "outputs": [],
   "source": [
    "# Apply current sensors gain to data\n",
    "apply_sct_gain(db)"
   ]
  },
  {
   "cell_type": "code",
   "execution_count": 25,
   "metadata": {},
   "outputs": [],
   "source": [
    "# Save changes\n",
    "db.to_csv(PRE_FMTD_DB_DIR+PVTDB, float_format='%.4f')"
   ]
  },
  {
   "cell_type": "code",
   "execution_count": 26,
   "metadata": {},
   "outputs": [],
   "source": [
    "# Split data\n",
    "db_house = db['DL_CY'].drop(['R47CH1/Irms', 'R47CH1/PF', 'R47CH1/Pwr', 'R47CH1/Vrms'], axis=1)\n",
    "db_pump = db['DL_CY'].drop(['R22CH0/Irms', 'R22CH0/PF', 'R22CH0/Pwr', 'R22CH0/Vrms'], axis=1)\n",
    "db_air = db['DL_AC'].copy()\n",
    "db_fridge = db['DL_FG'].copy()\n",
    "db_fan = db['DL_MR'].drop(['R82CH0/Irms', 'R82CH0/PF', 'R82CH0/Pwr', 'R82CH0/Vrms'], axis=1)\n",
    "db_computer = db['DL_MR'].drop(['R82CH1/Irms','R82CH1/PF', 'R82CH1/Pwr', 'R82CH1/Vrms'], axis=1)\n",
    "db_ex = db['DL_EX'].copy()"
   ]
  },
  {
   "cell_type": "code",
   "execution_count": 27,
   "metadata": {},
   "outputs": [],
   "source": [
    "# Naming datasets\n",
    "db_house.name = 'house'\n",
    "db_pump.name = 'pump'\n",
    "db_air.name = 'air'\n",
    "db_fridge.name = 'fridge'\n",
    "db_fan.name = 'fan'\n",
    "db_computer.name = 'computer'\n",
    "db_ex.name = 'external'"
   ]
  },
  {
   "cell_type": "code",
   "execution_count": 28,
   "metadata": {},
   "outputs": [],
   "source": [
    "# Rename columns\n",
    "rename_columns(db_house)\n",
    "rename_columns(db_pump)\n",
    "rename_columns(db_air)\n",
    "rename_columns(db_fridge)\n",
    "rename_columns(db_fan)\n",
    "rename_columns(db_computer)\n",
    "db_ex.columns = ['H.0', 'T.0', 'LL', 'H', 'T']"
   ]
  },
  {
   "cell_type": "code",
   "execution_count": 29,
   "metadata": {},
   "outputs": [],
   "source": [
    "# Append IDT\n",
    "datasets = [db_house, db_pump, db_air, db_fridge, db_fan, db_computer, db_ex]\n",
    "\n",
    "for dataset in datasets:\n",
    "    append_di_column(dataset)"
   ]
  },
  {
   "cell_type": "code",
   "execution_count": 30,
   "metadata": {},
   "outputs": [
    {
     "name": "stdout",
     "output_type": "stream",
     "text": [
      "\"['Vrms' 'Irms' 'PF'] not found in axis\"\n"
     ]
    }
   ],
   "source": [
    "# Drop unused data\n",
    "for dataset in datasets:\n",
    "    try:\n",
    "        dataset.drop(['Vrms','Irms','PF'], axis=1, inplace=True)\n",
    "    except Exception as e:\n",
    "        print(e)"
   ]
  },
  {
   "cell_type": "code",
   "execution_count": 31,
   "metadata": {},
   "outputs": [],
   "source": [
    "# Export data\n",
    "for dataset in datasets:\n",
    "    dataset.to_csv(FMTD_DB_DIR+\"/{}.csv\".format(dataset.name), float_format='%.4f')"
   ]
  }
 ],
 "metadata": {
  "interpreter": {
   "hash": "6cb5371e97afa0a9afd340b54cc3ab0c27e4fa26de054c8fa72fe029dc1b0ef1"
  },
  "kernelspec": {
   "display_name": "Python 3.8.0 64-bit ('tcc': virtualenv)",
   "name": "python3"
  },
  "language_info": {
   "codemirror_mode": {
    "name": "ipython",
    "version": 3
   },
   "file_extension": ".py",
   "mimetype": "text/x-python",
   "name": "python",
   "nbconvert_exporter": "python",
   "pygments_lexer": "ipython3",
   "version": "3.8.10"
  }
 },
 "nbformat": 4,
 "nbformat_minor": 4
}
